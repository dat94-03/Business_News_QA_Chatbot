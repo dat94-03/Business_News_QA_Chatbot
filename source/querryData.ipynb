{
 "cells": [
  {
   "cell_type": "code",
   "execution_count": 2,
   "metadata": {},
   "outputs": [
    {
     "name": "stderr",
     "output_type": "stream",
     "text": [
      "Special tokens have been added in the vocabulary, make sure the associated word embeddings are fine-tuned or trained.\n"
     ]
    }
   ],
   "source": [
    "\n",
    "from sentence_transformers import SentenceTransformer\n",
    "import chromadb\n",
    "\n",
    "\n",
    "client = chromadb.Client()\n",
    "client = chromadb.PersistentClient(path=\"../vectorizeData/\")\n",
    "news_vectorize_data = client.get_or_create_collection(name='news_vectorize_data')\n",
    "\n",
    "#vietnamese embedding model\n",
    "embedding_model = SentenceTransformer('bkai-foundation-models/vietnamese-bi-encoder')\n"
   ]
  },
  {
   "cell_type": "code",
   "execution_count": 11,
   "metadata": {},
   "outputs": [
    {
     "name": "stderr",
     "output_type": "stream",
     "text": [
      "Special tokens have been added in the vocabulary, make sure the associated word embeddings are fine-tuned or trained.\n"
     ]
    },
    {
     "data": {
      "text/plain": [
       "'Big4 là các ngân hàng có mạng lưới hoạt động lớn nhất Việt Nam với các phòng giao dịch phủ khắp các địa phương trên cả nước. Đây cũng là những ngân hàng có quy mô tiền gửi khách hàng lớn nhất hệ thống. Tính đến cuối quý 2, Agribank có số dư tiền gửi khách hàng đạt trên 1,686 triệu tỷ đồng, tăng 3,8% so với hồi đầu năm. Đứng kế sau Agribank là BIDV (gần 1,546 triệu tỷ đồng), Vietcombank (gần 1,327 triệu tỷ đồng), VietinBank (1,310 triệu tỷ đồng). Với việc chiếm gần một nửa thị phần huy động tiền gửi toàn hệ thống, động thái của nhóm Big4 được kỳ vọng sẽ thúc đẩy các ngân hàng tư nhân giảm thêm lãi suất huy động trong thời gian tới.'"
      ]
     },
     "execution_count": 11,
     "metadata": {},
     "output_type": "execute_result"
    }
   ],
   "source": [
    "results = news_vectorize_data.query(\n",
    "    query_embeddings=[SentenceTransformer('bkai-foundation-models/vietnamese-bi-encoder').encode(\"big4 như thế nào?\").tolist()],\n",
    "    n_results=5\n",
    "    )\n",
    "results['documents'][0][0]"
   ]
  }
 ],
 "metadata": {
  "kernelspec": {
   "display_name": "Python 3",
   "language": "python",
   "name": "python3"
  },
  "language_info": {
   "codemirror_mode": {
    "name": "ipython",
    "version": 3
   },
   "file_extension": ".py",
   "mimetype": "text/x-python",
   "name": "python",
   "nbconvert_exporter": "python",
   "pygments_lexer": "ipython3",
   "version": "3.10.4"
  }
 },
 "nbformat": 4,
 "nbformat_minor": 2
}
