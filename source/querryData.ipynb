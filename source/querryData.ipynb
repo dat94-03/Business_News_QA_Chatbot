{
 "cells": [
  {
   "cell_type": "code",
   "execution_count": 4,
   "metadata": {},
   "outputs": [],
   "source": [
    "\n",
    "from sentence_transformers import SentenceTransformer\n",
    "import chromadb\n",
    "\n",
    "\n",
    "client = chromadb.Client()\n",
    "client = chromadb.PersistentClient(path=\"../vectorizeData/\")\n",
    "news_vectorize_data = client.get_or_create_collection(name='news_vectorize_data')\n",
    "\n",
    "#vietnamese embedding model\n",
    "embedding_model = SentenceTransformer('bkai-foundation-models/vietnamese-bi-encoder')\n"
   ]
  },
  {
   "cell_type": "code",
   "execution_count": 5,
   "metadata": {},
   "outputs": [
    {
     "data": {
      "text/plain": [
       "{'ids': [['313', '2554', '2456', '2449', '2345']],\n",
       " 'distances': [[21.242595672607422,\n",
       "   22.352861404418945,\n",
       "   23.036392211914062,\n",
       "   23.260717391967773,\n",
       "   23.768272399902344]],\n",
       " 'metadatas': [[{'ID_3': 6,\n",
       "    'ID_4': 60,\n",
       "    'Time': '2023-09-08T01:14:00',\n",
       "    'Title': 'Giá dầu thô giảm do triển vọng kinh tế toàn cầu ảm đạm',\n",
       "    'URL': 'https://www.dnse.com.vn/senses/tin-tuc/co-phieu-apple-keo-chung-khoan-my-giam-diem-33396761'},\n",
       "   {'ID_3': 27,\n",
       "    'ID_4': 83,\n",
       "    'Time': '2023-09-04T03:59:33',\n",
       "    'Title': 'Giá xăng dầu tăng mạnh trên thị trường thế giới',\n",
       "    'URL': 'https://www.dnse.com.vn/senses/tin-tuc/gia-xang-dau-tang-co-loai-tang-manh-sau-ky-nghi-le-33394421'},\n",
       "   {'ID_3': 6,\n",
       "    'ID_4': 60,\n",
       "    'Time': '2023-09-07T03:42:00',\n",
       "    'Title': 'Giá dầu thô Brent và dầu WTI tăng lên',\n",
       "    'URL': 'https://www.dnse.com.vn/senses/tin-tuc/a-rap-saudi-nga-tiep-tuc-giam-san-luong-dau-33396212'},\n",
       "   {'ID_3': 6,\n",
       "    'ID_4': 60,\n",
       "    'Time': '2023-09-16T03:53:00',\n",
       "    'Title': 'Giá dầu tăng mạnh',\n",
       "    'URL': 'https://www.dnse.com.vn/senses/tin-tuc/vi-sao-gia-dau-quay-tro-lai-moc-90-usd-thung-co-the-len-100-usd-truoc-nam-2024-33411222'},\n",
       "   {'ID_3': 6,\n",
       "    'ID_4': 60,\n",
       "    'Time': '2023-09-19T01:13:00',\n",
       "    'Title': 'Giá dầu thô Brent tiến gần đến mốc 95 USD/thùng',\n",
       "    'URL': 'https://www.dnse.com.vn/senses/tin-tuc/chung-khoan-my-nin-tho-truoc-cuoc-hop-fed-gia-dau-len-gan-95-usd-thung-33422253'}]],\n",
       " 'embeddings': None,\n",
       " 'documents': [['Trên thị trường năng lượng, giá dầu thô Brent giao sau tại London giảm 0,68 USD/thùng, tương đương giảm 0,8%, còn 89,92 USD/thùng. Giá dầu WTI giao sau tại New York giảm 0,67 USD/thùng, tương đương giảm 0,8%, còn 86,67 USD/thùng. Sau gần 2 tuần tăng nhờ mối lo về sự thắt chặt nguồn cung do Saudi Arabia và Nga gia hạn kế hoạch cắt giảm sản lượng, giá dầu đang có dấu hiệu đuối sức trở lại vì triển vọng ảm đạm của kinh tế toàn cầu, nhất là kinh tế Trung Quốc - nước nhập khẩu dầu thô lớn nhất thế giới.',\n",
       "   'Ghi nhận trên thị trường thế giới, giá xăng dầu trong những ngày gần đây có xu hướng tăng mạnh. Ngày 4/9, giá dầu thô WTI lên mức 86,67 USD/thùng, dầu Brent lên mức 88,59 USD/thùng, tăng khoảng 5 USD/thùng so với trước ngày điều chỉnh ở kỳ trước. Giá xăng thành phẩm trên thị trường Singapore những ngày qua vẫn tiếp tục tăng mạnh.',\n",
       "   'Giá dầu thô Brent của Anh có lúc tăng lên 90,18 USD/thùng, trong khi giá dầu WTI của Mỹ có lúc đạt 86,81 USD/thùng.',\n",
       "   'Giá dầu thô Brent chuẩn quốc tế giao dịch thấp hơn 0,3%, ở mức 93,46 USD/thùng vào chiều ngày 15/9 tại London, trong khi giá dầu tương lai WTI của Mỹ ít thay đổi ở mức 90,09 USD. Cả Brent và WTI đều đạt mức cao nhất trong năm vào ngày 14/9 với dầu thô Brent chuẩn quốc tế ổn định ở mức 93,70 USD/thùng, tăng hơn 25% kể từ tháng 6. Dầu WTI của Mỹ, ổn định ở mức giá 90,16 USD. Các hợp đồng dầu mỏ tăng mạnh từ đầu tháng đến nay và vẫn đang trên đà đạt được tuần tích cực thứ ba liên tiếp. Nhiều nhà phân tích dự báo, giá dầu có thể vượt ngưỡng 100 USD trong những tuần tới do nhu cầu mạnh, nguồn cung khan hiếm và chính quyền Mỹ thiếu các công cụ để hạn chế giá.',\n",
       "   'Giá dầu thô Brent đang tiến gần đến mốc 95 USD/thùng, sau khi tăng mạnh trong tuần trước nhờ tiếp tục được hỗ trợ bởi sự thắt chặt nguồn cung do Saudi Arabia và Nga giảm sản lượng, cộng thêm sự vững vàng của nền kinh tế Mỹ.']]}"
      ]
     },
     "execution_count": 5,
     "metadata": {},
     "output_type": "execute_result"
    }
   ],
   "source": [
    "results = news_vectorize_data.query(\n",
    "    query_embeddings=[SentenceTransformer('bkai-foundation-models/vietnamese-bi-encoder').encode(\"giá dầu thô\").tolist()],\n",
    "    n_results=5\n",
    "    )\n",
    "results"
   ]
  }
 ],
 "metadata": {
  "kernelspec": {
   "display_name": "Python 3",
   "language": "python",
   "name": "python3"
  },
  "language_info": {
   "codemirror_mode": {
    "name": "ipython",
    "version": 3
   },
   "file_extension": ".py",
   "mimetype": "text/x-python",
   "name": "python",
   "nbconvert_exporter": "python",
   "pygments_lexer": "ipython3",
   "version": "3.11.4"
  }
 },
 "nbformat": 4,
 "nbformat_minor": 2
}
