{
 "cells": [
  {
   "attachments": {},
   "cell_type": "markdown",
   "metadata": {},
   "source": [
    "<h1>Business_News_QA_Chatbot</h1>"
   ]
  },
  {
   "cell_type": "code",
   "execution_count": 6,
   "metadata": {},
   "outputs": [
    {
     "name": "stdout",
     "output_type": "stream",
     "text": [
      "Results saved to ../data/output.json successful\n"
     ]
    }
   ],
   "source": [
    "from sentence_transformers import SentenceTransformer, util\n",
    "import json\n",
    "\n",
    "embedding_model = SentenceTransformer('bkai-foundation-models/vietnamese-bi-encoder')\n",
    "\n",
    "path = '../data/input.json'\n",
    "\n",
    "with open(path, 'r') as file:\n",
    "    news_data = json.load(file)\n",
    "\n",
    "output_results = []\n",
    "\n",
    "for i in range(len(news_data)):\n",
    "    for j in range(i + 1, len(news_data)):\n",
    "        embedding_1 = embedding_model.encode(news_data[i]['content'])\n",
    "        embedding_2 = embedding_model.encode(news_data[j]['content'])\n",
    "        similarity_score = util.pytorch_cos_sim(embedding_1, embedding_2).tolist()[0][0]\n",
    "\n",
    "        result_entry = {\n",
    "            \"id1\": news_data[i]['id'],\n",
    "            \"id2\": news_data[j]['id'],\n",
    "            \"cost\": similarity_score\n",
    "        }\n",
    "\n",
    "        output_results.append(result_entry)\n",
    "\n",
    "\n",
    "output_path = '../data/output.json'\n",
    "with open(output_path, 'w') as output_file:\n",
    "    json.dump(output_results, output_file, indent=2)\n",
    "\n",
    "print(f\"Results saved to {output_path} successful\")\n"
   ]
  }
 ],
 "metadata": {
  "kernelspec": {
   "display_name": "Python 3",
   "language": "python",
   "name": "python3"
  },
  "language_info": {
   "codemirror_mode": {
    "name": "ipython",
    "version": 3
   },
   "file_extension": ".py",
   "mimetype": "text/x-python",
   "name": "python",
   "nbconvert_exporter": "python",
   "pygments_lexer": "ipython3",
   "version": "3.11.4"
  },
  "orig_nbformat": 4
 },
 "nbformat": 4,
 "nbformat_minor": 2
}
